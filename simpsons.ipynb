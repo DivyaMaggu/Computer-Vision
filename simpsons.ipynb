{
 "cells": [
  {
   "cell_type": "code",
   "execution_count": 1,
   "id": "ee3602b5",
   "metadata": {},
   "outputs": [],
   "source": [
    "# Caer - is a set of utility functions designed to help speed up your Computer Vision workflow. Functions \n",
    "#inside caer will help reduce the number of calculation calls your code makes, ultimately making it neat, concise and readable.\n",
    "\n",
    "# Canaro - A Computer Vision library in Python with powerful image processing operations, including support for \n",
    "#Deep Learning models built using the Keras framework.\n",
    "\n",
    "# gc (garbage collector) - This module provides an interface to the optional garbage collector. \n",
    "# It provides the ability to disable the collector, tune the collection frequency, and set debugging options."
   ]
  },
  {
   "cell_type": "code",
   "execution_count": 2,
   "id": "155905db",
   "metadata": {},
   "outputs": [],
   "source": [
    "import os\n",
    "import caer    \n",
    "import canaro\n",
    "import cv2 as cv\n",
    "import gc\n",
    "import matplotlib.pyplot as plt\n",
    "import tensorflow "
   ]
  },
  {
   "cell_type": "code",
   "execution_count": 3,
   "id": "b32122c4",
   "metadata": {},
   "outputs": [],
   "source": [
    "img_size = (64,64)\n",
    "channels = 1\n",
    "# Path of the base folder containing all the characters images -->\n",
    "char_path = r\"C:\\Users\\divyam\\Documents\\ComputerVision\\simpsons_dataset\\simpsons_dataset\""
   ]
  },
  {
   "cell_type": "code",
   "execution_count": 4,
   "id": "b33fdc4c",
   "metadata": {},
   "outputs": [
    {
     "name": "stdout",
     "output_type": "stream",
     "text": [
      "[('abraham_grampa_simpson', 280), ('bart_simpson', 280), ('chief_wiggum', 220), ('charles_montgomery_burns', 215), ('apu_nahasapeemapetilon', 210)]\n"
     ]
    }
   ],
   "source": [
    "# Creating dictionary to store the number of images in each folder -->\n",
    "char_dict = {}\n",
    "for char in os.listdir(char_path):\n",
    "    char_dict[char] = len(os.listdir(os.path.join(char_path, char)))\n",
    "# Sorting the dictionary in descending order -->\n",
    "char_dict = caer.sort_dict(char_dict, descending = True)\n",
    "print(char_dict)"
   ]
  },
  {
   "cell_type": "code",
   "execution_count": 9,
   "id": "c17c2b61",
   "metadata": {},
   "outputs": [
    {
     "name": "stdout",
     "output_type": "stream",
     "text": [
      "['abraham_grampa_simpson', 'bart_simpson', 'chief_wiggum', 'charles_montgomery_burns', 'apu_nahasapeemapetilon']\n"
     ]
    }
   ],
   "source": [
    "# Storing ist 10 character's names in a list -->\n",
    "characters =[]\n",
    "# count = 0\n",
    "for i in char_dict:\n",
    "    characters.append(i[0])   # getting the names(keys of the dict) only \n",
    "#     count+=1\n",
    "#     if count>=10:\n",
    "#         break\n",
    "# print(\"-------------------\")\n",
    "print(characters)"
   ]
  },
  {
   "cell_type": "code",
   "execution_count": 6,
   "id": "ce0580dd",
   "metadata": {},
   "outputs": [
    {
     "name": "stdout",
     "output_type": "stream",
     "text": [
      "[INFO] Could not find a file to load from. Generating the training data\n",
      "----------------------------------------------\n",
      "[INFO] 280 files found in 0.004213571548461914s\n",
      "[INFO] 280 files found in 0.0s\n",
      "[INFO] 220 files found in 0.0s\n",
      "[INFO] 215 files found in 0.0035386085510253906s\n",
      "[INFO] 210 files found in 0.0s\n",
      "----------------------------------------------\n",
      "[INFO] 1205 files preprocessed! Took 0m 6s\n",
      "1205\n"
     ]
    }
   ],
   "source": [
    "#  Creating training dataset -->\n",
    "train = caer.preprocess_from_dir(char_path, characters, channels=channels,IMG_SIZE=img_size, isShuffle=True)\n",
    "print(len(train))"
   ]
  },
  {
   "cell_type": "code",
   "execution_count": 7,
   "id": "311796b2",
   "metadata": {},
   "outputs": [
    {
     "data": {
      "image/png": "[encoded data removed]",
      "text/plain": [
       "<Figure size 360x360 with 1 Axes>"
      ]
     },
     "metadata": {
      "needs_background": "light"
     },
     "output_type": "display_data"
    }
   ],
   "source": [
    "plt.figure(figsize=(5,5))\n",
    "plt.imshow(train[0][0], cmap=\"gray\")\n",
    "plt.show()"
   ]
  },
  {
   "cell_type": "code",
   "execution_count": 10,
   "id": "3b28862e",
   "metadata": {},
   "outputs": [],
   "source": [
    "# Separating the training dataset into features and labels\n",
    "featureSet, labels = caer.sep_train(train, IMG_SIZE = img_size)"
   ]
  },
  {
   "cell_type": "code",
   "execution_count": 11,
   "id": "b7ea92dd",
   "metadata": {},
   "outputs": [],
   "source": [
    "# Normalize the feature set-\n",
    "from tensorflow.keras.utils import to_categorical\n",
    "\n",
    "featureSet = caer.normalize(featureSet)\n",
    "labels = to_categorical(labels, len(characters))"
   ]
  },
  {
   "cell_type": "code",
   "execution_count": 12,
   "id": "17c117d9",
   "metadata": {},
   "outputs": [],
   "source": [
    "x_train,x_val,y_train,y_val = caer.train_val_split(featureSet, labels, val_ratio = 0.2)"
   ]
  },
  {
   "cell_type": "code",
   "execution_count": 13,
   "id": "54b4061e",
   "metadata": {},
   "outputs": [],
   "source": [
    "import numpy as np\n",
    "x_train = np.asarray(x_train)\n",
    "y_train = np.asarray(y_train)\n",
    "x_val = np.asarray(x_val)\n",
    "y_val = np.asarray(y_val)"
   ]
  },
  {
   "cell_type": "code",
   "execution_count": null,
   "id": "106205e6",
   "metadata": {},
   "outputs": [],
   "source": [
    "del train\n",
    "del featureSet\n",
    "del labels\n",
    "gc.collect()"
   ]
  },
  {
   "cell_type": "code",
   "execution_count": 14,
   "id": "db574c83",
   "metadata": {},
   "outputs": [],
   "source": [
    "BATCH_SIZE = 32\n",
    "EPOCHS = 5"
   ]
  },
  {
   "cell_type": "code",
   "execution_count": 15,
   "id": "bee336f0",
   "metadata": {},
   "outputs": [],
   "source": [
    "# Image Data Generator -\n",
    "datagen = canaro.generators.imageDataGenerator()\n",
    "train_gen = datagen.flow(x_train,y_train, batch_size = BATCH_SIZE)\n",
    "\n",
    "# train_datagen = tensorflow.keras.preprocessing.image.ImageDataGenerator(rescale = 1./255,\n",
    "#                                    shear_range = 0.2,\n",
    "#                                    zoom_range = 0.2,\n",
    "#                                    horizontal_flip = True)\n",
    "# training_set = train_datagen.flow_from_directory(train,\n",
    "#                                                  target_size = (64, 64),\n",
    "#                                                  batch_size = 32)\n"
   ]
  },
  {
   "cell_type": "code",
   "execution_count": 23,
   "id": "9c0148bb",
   "metadata": {},
   "outputs": [
    {
     "name": "stderr",
     "output_type": "stream",
     "text": [
      "C:\\Users\\divyam\\Anaconda3\\lib\\site-packages\\keras\\optimizers\\optimizer_v2\\gradient_descent.py:111: UserWarning: The `lr` argument is deprecated, use `learning_rate` instead.\n",
      "  super().__init__(name, **kwargs)\n"
     ]
    }
   ],
   "source": [
    "model = canaro.models.createSimpsonsModel(IMG_SIZE = img_size, channels= channels, learning_rate= 0.001, \n",
    "                                          output_dim= len(characters), loss= \"binary_crossentropy\", momentum= 0.6,\n",
    "                                          decay= 1e-6, nesterov= True)"
   ]
  },
  {
   "cell_type": "code",
   "execution_count": 24,
   "id": "93e708d9",
   "metadata": {},
   "outputs": [
    {
     "name": "stdout",
     "output_type": "stream",
     "text": [
      "Model: \"sequential_4\"\n",
      "_________________________________________________________________\n",
      " Layer (type)                Output Shape              Param #   \n",
      "=================================================================\n",
      " conv2d_18 (Conv2D)          (None, 64, 64, 32)        320       \n",
      "                                                                 \n",
      " conv2d_19 (Conv2D)          (None, 62, 62, 32)        9248      \n",
      "                                                                 \n",
      " max_pooling2d_9 (MaxPooling  (None, 31, 31, 32)       0         \n",
      " 2D)                                                             \n",
      "                                                                 \n",
      " dropout_12 (Dropout)        (None, 31, 31, 32)        0         \n",
      "                                                                 \n",
      " conv2d_20 (Conv2D)          (None, 31, 31, 64)        18496     \n",
      "                                                                 \n",
      " conv2d_21 (Conv2D)          (None, 29, 29, 64)        36928     \n",
      "                                                                 \n",
      " max_pooling2d_10 (MaxPoolin  (None, 14, 14, 64)       0         \n",
      " g2D)                                                            \n",
      "                                                                 \n",
      " dropout_13 (Dropout)        (None, 14, 14, 64)        0         \n",
      "                                                                 \n",
      " conv2d_22 (Conv2D)          (None, 14, 14, 256)       147712    \n",
      "                                                                 \n",
      " conv2d_23 (Conv2D)          (None, 12, 12, 256)       590080    \n",
      "                                                                 \n",
      " max_pooling2d_11 (MaxPoolin  (None, 6, 6, 256)        0         \n",
      " g2D)                                                            \n",
      "                                                                 \n",
      " dropout_14 (Dropout)        (None, 6, 6, 256)         0         \n",
      "                                                                 \n",
      " flatten_3 (Flatten)         (None, 9216)              0         \n",
      "                                                                 \n",
      " dropout_15 (Dropout)        (None, 9216)              0         \n",
      "                                                                 \n",
      " dense_4 (Dense)             (None, 1024)              9438208   \n",
      "                                                                 \n",
      " dense_5 (Dense)             (None, 5)                 5125      \n",
      "                                                                 \n",
      "=================================================================\n",
      "Total params: 10,246,117\n",
      "Trainable params: 10,246,117\n",
      "Non-trainable params: 0\n",
      "_________________________________________________________________\n"
     ]
    }
   ],
   "source": [
    "model.summary()"
   ]
  },
  {
   "cell_type": "code",
   "execution_count": 25,
   "id": "f4727a1e",
   "metadata": {},
   "outputs": [],
   "source": [
    "from tensorflow.keras.callbacks import LearningRateScheduler\n",
    "callbacks_list = [LearningRateScheduler(canaro.lr_schedule)]"
   ]
  },
  {
   "cell_type": "code",
   "execution_count": 29,
   "id": "b85eb08c",
   "metadata": {},
   "outputs": [
    {
     "name": "stdout",
     "output_type": "stream",
     "text": [
      "Epoch 1/30\n",
      "30/30 [==============================] - 21s 699ms/step - loss: 0.4834 - accuracy: 0.2932 - val_loss: 0.4757 - val_accuracy: 0.3058 - lr: 0.0100\n",
      "Epoch 2/30\n",
      "30/30 [==============================] - 20s 692ms/step - loss: 0.4779 - accuracy: 0.3308 - val_loss: 0.4697 - val_accuracy: 0.3512 - lr: 0.0100\n",
      "Epoch 3/30\n",
      "30/30 [==============================] - 20s 678ms/step - loss: 0.4700 - accuracy: 0.3652 - val_loss: 0.4650 - val_accuracy: 0.2975 - lr: 0.0100\n",
      "Epoch 4/30\n",
      "30/30 [==============================] - 20s 678ms/step - loss: 0.4670 - accuracy: 0.3373 - val_loss: 0.4559 - val_accuracy: 0.4298 - lr: 0.0100\n",
      "Epoch 5/30\n",
      "30/30 [==============================] - 18s 599ms/step - loss: 0.4618 - accuracy: 0.3974 - val_loss: 0.4506 - val_accuracy: 0.3967 - lr: 0.0100\n",
      "Epoch 6/30\n",
      "30/30 [==============================] - 16s 547ms/step - loss: 0.4601 - accuracy: 0.3771 - val_loss: 0.4473 - val_accuracy: 0.4298 - lr: 0.0100\n",
      "Epoch 7/30\n",
      "30/30 [==============================] - 19s 651ms/step - loss: 0.4526 - accuracy: 0.4125 - val_loss: 0.4421 - val_accuracy: 0.4628 - lr: 0.0100\n",
      "Epoch 8/30\n",
      "30/30 [==============================] - 19s 616ms/step - loss: 0.4450 - accuracy: 0.4447 - val_loss: 0.4326 - val_accuracy: 0.4752 - lr: 0.0100\n",
      "Epoch 9/30\n",
      "30/30 [==============================] - 18s 598ms/step - loss: 0.4434 - accuracy: 0.4264 - val_loss: 0.4291 - val_accuracy: 0.4752 - lr: 0.0100\n",
      "Epoch 10/30\n",
      "30/30 [==============================] - 20s 680ms/step - loss: 0.4323 - accuracy: 0.4715 - val_loss: 0.4402 - val_accuracy: 0.4132 - lr: 0.0100\n",
      "Epoch 11/30\n",
      "30/30 [==============================] - 21s 696ms/step - loss: 0.4300 - accuracy: 0.4737 - val_loss: 0.4251 - val_accuracy: 0.4793 - lr: 0.0010\n",
      "Epoch 12/30\n",
      "30/30 [==============================] - 20s 673ms/step - loss: 0.4309 - accuracy: 0.4973 - val_loss: 0.4244 - val_accuracy: 0.4669 - lr: 0.0010\n",
      "Epoch 13/30\n",
      "30/30 [==============================] - 21s 708ms/step - loss: 0.4297 - accuracy: 0.4898 - val_loss: 0.4225 - val_accuracy: 0.4835 - lr: 0.0010\n",
      "Epoch 14/30\n",
      "30/30 [==============================] - 20s 675ms/step - loss: 0.4249 - accuracy: 0.4898 - val_loss: 0.4223 - val_accuracy: 0.4752 - lr: 0.0010\n",
      "Epoch 15/30\n",
      "30/30 [==============================] - 20s 676ms/step - loss: 0.4256 - accuracy: 0.4941 - val_loss: 0.4223 - val_accuracy: 0.4752 - lr: 0.0010\n",
      "Epoch 16/30\n",
      "30/30 [==============================] - 20s 674ms/step - loss: 0.4281 - accuracy: 0.4962 - val_loss: 0.4226 - val_accuracy: 0.4711 - lr: 0.0010\n",
      "Epoch 17/30\n",
      "30/30 [==============================] - 20s 678ms/step - loss: 0.4284 - accuracy: 0.4898 - val_loss: 0.4280 - val_accuracy: 0.4711 - lr: 0.0010\n",
      "Epoch 18/30\n",
      "30/30 [==============================] - 21s 698ms/step - loss: 0.4276 - accuracy: 0.4917 - val_loss: 0.4229 - val_accuracy: 0.4711 - lr: 0.0010\n",
      "Epoch 19/30\n",
      "30/30 [==============================] - 21s 697ms/step - loss: 0.4307 - accuracy: 0.4501 - val_loss: 0.4210 - val_accuracy: 0.4669 - lr: 0.0010\n",
      "Epoch 20/30\n",
      "30/30 [==============================] - 20s 674ms/step - loss: 0.4280 - accuracy: 0.4962 - val_loss: 0.4228 - val_accuracy: 0.4752 - lr: 0.0010\n",
      "Epoch 21/30\n",
      "30/30 [==============================] - 20s 666ms/step - loss: 0.4310 - accuracy: 0.4608 - val_loss: 0.4223 - val_accuracy: 0.4711 - lr: 1.0000e-04\n",
      "Epoch 22/30\n",
      "30/30 [==============================] - 559s 715ms/step - loss: 0.4246 - accuracy: 0.5027 - val_loss: 0.4214 - val_accuracy: 0.4711 - lr: 1.0000e-04\n",
      "Epoch 23/30\n",
      "30/30 [==============================] - 20s 658ms/step - loss: 0.4269 - accuracy: 0.4909 - val_loss: 0.4213 - val_accuracy: 0.4752 - lr: 1.0000e-04\n",
      "Epoch 24/30\n",
      "30/30 [==============================] - 20s 662ms/step - loss: 0.4255 - accuracy: 0.4876 - val_loss: 0.4212 - val_accuracy: 0.4752 - lr: 1.0000e-04\n",
      "Epoch 25/30\n",
      "30/30 [==============================] - 20s 674ms/step - loss: 0.4204 - accuracy: 0.4887 - val_loss: 0.4211 - val_accuracy: 0.4711 - lr: 1.0000e-04\n",
      "Epoch 26/30\n",
      "30/30 [==============================] - 20s 660ms/step - loss: 0.4288 - accuracy: 0.4780 - val_loss: 0.4209 - val_accuracy: 0.4711 - lr: 1.0000e-04\n",
      "Epoch 27/30\n",
      "30/30 [==============================] - 20s 658ms/step - loss: 0.4242 - accuracy: 0.4844 - val_loss: 0.4204 - val_accuracy: 0.4711 - lr: 1.0000e-04\n",
      "Epoch 28/30\n",
      "30/30 [==============================] - 21s 705ms/step - loss: 0.4291 - accuracy: 0.4801 - val_loss: 0.4199 - val_accuracy: 0.4711 - lr: 1.0000e-04\n",
      "Epoch 29/30\n",
      "30/30 [==============================] - 20s 676ms/step - loss: 0.4266 - accuracy: 0.5038 - val_loss: 0.4200 - val_accuracy: 0.4711 - lr: 1.0000e-04\n",
      "Epoch 30/30\n",
      "30/30 [==============================] - 20s 674ms/step - loss: 0.4233 - accuracy: 0.4801 - val_loss: 0.4202 - val_accuracy: 0.4711 - lr: 1.0000e-04\n"
     ]
    }
   ],
   "source": [
    "training = model.fit(train_gen,steps_per_epoch=len(x_train)//BATCH_SIZE, epochs = 30, validation_data=(x_val,y_val), \n",
    "                     validation_steps=len(y_val)//BATCH_SIZE, callbacks=callbacks_list)"
   ]
  },
  {
   "cell_type": "code",
   "execution_count": 59,
   "id": "1ff893c6",
   "metadata": {},
   "outputs": [],
   "source": [
    "def prepare(img):\n",
    "    img = cv.cvtColor(img, cv.COLOR_BGR2GRAY)\n",
    "    img = cv.resize(img, (64,64))\n",
    "    img = caer.reshape(img,(64,64),1)\n",
    "    return img"
   ]
  },
  {
   "cell_type": "code",
   "execution_count": 75,
   "id": "e62254e5",
   "metadata": {},
   "outputs": [],
   "source": [
    "img = cv.imread(\"test_image2.jpeg\")"
   ]
  },
  {
   "cell_type": "code",
   "execution_count": 76,
   "id": "9dde621b",
   "metadata": {},
   "outputs": [
    {
     "name": "stdout",
     "output_type": "stream",
     "text": [
      "1/1 [==============================] - 0s 38ms/step\n"
     ]
    }
   ],
   "source": [
    "predictions = model.predict(prepare(img))"
   ]
  },
  {
   "cell_type": "code",
   "execution_count": 79,
   "id": "8220febd",
   "metadata": {},
   "outputs": [
    {
     "name": "stdout",
     "output_type": "stream",
     "text": [
      "abraham_grampa_simpson\n"
     ]
    }
   ],
   "source": [
    "print(characters[np.argmax(predictions)])"
   ]
  },
  {
   "cell_type": "code",
   "execution_count": null,
   "id": "3134c9d5",
   "metadata": {},
   "outputs": [],
   "source": []
  }
 ],
 "metadata": {
  "kernelspec": {
   "display_name": "Python 3 (ipykernel)",
   "language": "python",
   "name": "python3"
  },
  "language_info": {
   "codemirror_mode": {
    "name": "ipython",
    "version": 3
   },
   "file_extension": ".py",
   "mimetype": "text/x-python",
   "name": "python",
   "nbconvert_exporter": "python",
   "pygments_lexer": "ipython3",
   "version": "3.9.12"
  }
 },
 "nbformat": 4,
 "nbformat_minor": 5
}
